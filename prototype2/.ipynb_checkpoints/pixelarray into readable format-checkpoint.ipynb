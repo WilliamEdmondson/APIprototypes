{
 "cells": [
  {
   "cell_type": "markdown",
   "metadata": {},
   "source": [
    "# Getting the pixel array into a readable format."
   ]
  },
  {
   "cell_type": "code",
   "execution_count": 3,
   "metadata": {
    "collapsed": true
   },
   "outputs": [],
   "source": [
    "import dicom\n",
    "import numpy as np\n",
    "import pandas as pan\n",
    "import scipy"
   ]
  },
  {
   "cell_type": "markdown",
   "metadata": {},
   "source": [
    "Read in the pixel array data"
   ]
  },
  {
   "cell_type": "code",
   "execution_count": 4,
   "metadata": {},
   "outputs": [
    {
     "data": {
      "text/plain": [
       "'\\x00'"
      ]
     },
     "execution_count": 4,
     "metadata": {},
     "output_type": "execute_result"
    }
   ],
   "source": [
    "rs = dicom.read_file('data/sample.dcm')\n",
    "pd = rs.PixelData\n",
    "pd[0] #test first element"
   ]
  },
  {
   "cell_type": "code",
   "execution_count": 5,
   "metadata": {},
   "outputs": [
    {
     "data": {
      "text/plain": [
       "(0008, 0008) Image Type                          CS: ['ORIGINAL', 'PRIMARY', 'AXIAL']\n",
       "(0008, 0016) SOP Class UID                       UI: CT Image Storage\n",
       "(0008, 0018) SOP Instance UID                    UI: 1.3.6.1.4.1.5962.99.1.1701483768.603249517.1500645096599.6338.0\n",
       "(0008, 0020) Study Date                          DA: '20170329'\n",
       "(0008, 0021) Series Date                         DA: '20170329'\n",
       "(0008, 0022) Acquisition Date                    DA: '20170329'\n",
       "(0008, 0023) Content Date                        DA: '20170329'\n",
       "(0008, 0030) Study Time                          TM: '100358.000000'\n",
       "(0008, 0031) Series Time                         TM: '100909.586'\n",
       "(0008, 0032) Acquisition Time                    TM: '100931.950'\n",
       "(0008, 0033) Content Time                        TM: '100945.200'\n",
       "(0008, 0050) Accession Number                    SH: ''\n",
       "(0008, 0060) Modality                            CS: 'CT'\n",
       "(0008, 0070) Manufacturer                        LO: 'TOSHIBA'\n",
       "(0008, 0090) Referring Physician's Name          PN: ''\n",
       "(0008, 1090) Manufacturer's Model Name           LO: 'Aquilion ONE'\n",
       "(0010, 0010) Patient's Name                      PN: 'NAME^NONE'\n",
       "(0010, 0020) Patient ID                          LO: 'NOID'\n",
       "(0010, 0030) Patient's Birth Date                DA: ''\n",
       "(0010, 0040) Patient's Sex                       CS: ''\n",
       "(0012, 0062) Patient Identity Removed            CS: 'YES'\n",
       "(0012, 0063) De-identification Method            LO: ['Deidentified', 'Descriptors removed', 'Patient Characteristics removed', 'Device identity removed', 'Institution identity removed', 'Unsafe private removed', 'UIDs remapped']\n",
       "(0012, 0064)  De-identification Method Code Sequence   4 item(s) ---- \n",
       "   (0008, 0100) Code Value                          SH: '113100'\n",
       "   (0008, 0102) Coding Scheme Designator            SH: 'DCM'\n",
       "   (0008, 0104) Code Meaning                        LO: 'Basic Application Confidentiality Profile'\n",
       "   ---------\n",
       "   (0008, 0100) Code Value                          SH: '210004'\n",
       "   (0008, 0102) Coding Scheme Designator            SH: '99PMP'\n",
       "   (0008, 0104) Code Meaning                        LO: 'Remove all descriptors including Series Description'\n",
       "   ---------\n",
       "   (0008, 0100) Code Value                          SH: '113111'\n",
       "   (0008, 0102) Coding Scheme Designator            SH: 'DCM'\n",
       "   (0008, 0104) Code Meaning                        LO: 'Retain Safe Private Option'\n",
       "   ---------\n",
       "   (0008, 0100) Code Value                          SH: '210001'\n",
       "   (0008, 0102) Coding Scheme Designator            SH: '99PMP'\n",
       "   (0008, 0104) Code Meaning                        LO: 'Remap UIDs'\n",
       "   ---------\n",
       "(0018, 0022) Scan Options                        CS: 'DVOLUME_CT'\n",
       "(0018, 0050) Slice Thickness                     DS: '0.5'\n",
       "(0018, 0060) KVP                                 DS: '80'\n",
       "(0018, 0090) Data Collection Diameter            DS: '320.00'\n",
       "(0018, 1020) Software Version(s)                 LO: 'V6.06ER009'\n",
       "(0018, 1100) Reconstruction Diameter             DS: '286.25'\n",
       "(0018, 1120) Gantry/Detector Tilt                DS: '+0.0'\n",
       "(0018, 1130) Table Height                        DS: '+220.00'\n",
       "(0018, 1140) Rotation Direction                  CS: 'CW'\n",
       "(0018, 1150) Exposure Time                       IS: '500'\n",
       "(0018, 1151) X-Ray Tube Current                  IS: '50'\n",
       "(0018, 1152) Exposure                            IS: '25'\n",
       "(0018, 1160) Filter Type                         SH: 'MEDIUM'\n",
       "(0018, 1170) Generator Power                     IS: '4'\n",
       "(0018, 1190) Focal Spot(s)                       DS: ['0.9', '0.8']\n",
       "(0018, 1210) Convolution Kernel                  SH: 'FC08'\n",
       "(0018, 5100) Patient Position                    CS: 'HFS'\n",
       "(0018, 9302) Acquisition Type                    OB: 'STATIONARY'\n",
       "(0018, 9305) Revolution Time                     OB: '\\x00\\x00\\x00\\x00\\x00\\x00\\xe0?'\n",
       "(0018, 9306) Single Collimation Width            OB: '\\x00\\x00\\x00\\x00\\x00\\x00\\xe0?'\n",
       "(0018, 9307) Total Collimation Width             OB: '\\x00\\x00\\x00\\x00\\x00\\x00T@'\n",
       "(0018, 9318) Reconstruction Target Center (Patie OB: Array of 24 bytes\n",
       "(0018, 9327) Table Position                      OB: '\\x00\\x00\\x00\\x00\\x00 G@'\n",
       "(0018, 9334) Fluoroscopy Flag                    OB: 'NO'\n",
       "(0018, 9345) CTDIvol                             OB: 'ffffff7@'\n",
       "(0018, a001)  Contributing Equipment Sequence   1 item(s) ---- \n",
       "   (0008, 0070) Manufacturer                        LO: 'PixelMed'\n",
       "   (0008, 1010) Station Name                        SH: 'DCMCLEANER'\n",
       "   (0008, 1090) Manufacturer's Model Name           LO: 'DicomCleaner'\n",
       "   (0018, 1020) Software Version(s)                 LO: 'Sat Sep 29 13:49:22 EDT 2012'\n",
       "   (0018, a002) Contribution DateTime               DT: '20170721145636.410+0100'\n",
       "   (0018, a003) Contribution Description            ST: 'Cleaned'\n",
       "   (0040, a170)  Purpose of Reference Code Sequence   1 item(s) ---- \n",
       "      (0008, 0100) Code Value                          SH: '109104'\n",
       "      (0008, 0102) Coding Scheme Designator            SH: 'DCM'\n",
       "      (0008, 0104) Code Meaning                        LO: 'De-identifying Equipment'\n",
       "      ---------\n",
       "   ---------\n",
       "(0020, 000d) Study Instance UID                  UI: 1.3.6.1.4.1.5962.99.1.1701483768.603249517.1500645096599.6244.0\n",
       "(0020, 000e) Series Instance UID                 UI: 1.3.6.1.4.1.5962.99.1.1701483768.603249517.1500645096599.6245.0\n",
       "(0020, 0010) Study ID                            SH: ''\n",
       "(0020, 0011) Series Number                       IS: '4'\n",
       "(0020, 0012) Acquisition Number                  IS: '1'\n",
       "(0020, 0013) Instance Number                     IS: '4253'\n",
       "(0020, 0020) Patient Orientation                 CS: ['L', 'P']\n",
       "(0020, 0032) Image Position (Patient)            DS: ['-149.720000', '-145.970400', '-662.750000']\n",
       "(0020, 0037) Image Orientation (Patient)         DS: ['1.00000', '0.00000', '0.00000', '0.00000', '1.00000', '0.00000']\n",
       "(0020, 0052) Frame of Reference UID              UI: 1.3.6.1.4.1.5962.99.1.1701483768.603249517.1500645096599.6246.0\n",
       "(0020, 1040) Position Reference Indicator        LO: ''\n",
       "(0020, 1041) Slice Location                      DS: '+46.250'\n",
       "(0020, 9056) Stack ID                            OB: '1_1922_00003'\n",
       "(0020, 9057) In-Stack Position Number            OB: '\\x9d\\x10\\x00\\x00'\n",
       "(0020, 9128) Temporal Position Index             OB: '\\x1b\\x00\\x00\\x00'\n",
       "(0028, 0002) Samples per Pixel                   US: 1\n",
       "(0028, 0004) Photometric Interpretation          CS: 'MONOCHROME2'\n",
       "(0028, 0010) Rows                                US: 512\n",
       "(0028, 0011) Columns                             US: 512\n",
       "(0028, 0030) Pixel Spacing                       DS: ['0.559', '0.559']\n",
       "(0028, 0100) Bits Allocated                      US: 16\n",
       "(0028, 0101) Bits Stored                         US: 16\n",
       "(0028, 0102) High Bit                            US: 15\n",
       "(0028, 0103) Pixel Representation                US: 1\n",
       "(0028, 1050) Window Center                       DS: '30'\n",
       "(0028, 1051) Window Width                        DS: '320'\n",
       "(0028, 1052) Rescale Intercept                   DS: '0'\n",
       "(0028, 1053) Rescale Slope                       DS: '1'\n",
       "(0040, 0002) Scheduled Procedure Step Start Date DA: '20170329'\n",
       "(0040, 0003) Scheduled Procedure Step Start Time TM: '092800'\n",
       "(0040, 0004) Scheduled Procedure Step End Date   DA: '20170329'\n",
       "(0040, 0005) Scheduled Procedure Step End Time   TM: '095800.000'\n",
       "(0040, 0244) Performed Procedure Step Start Date DA: '20170329'\n",
       "(0040, 0245) Performed Procedure Step Start Time TM: '100358.000'\n",
       "(7fe0, 0010) Pixel Data                          OW: Array of 524288 bytes"
      ]
     },
     "execution_count": 5,
     "metadata": {},
     "output_type": "execute_result"
    }
   ],
   "source": [
    "rs"
   ]
  },
  {
   "cell_type": "code",
   "execution_count": 6,
   "metadata": {},
   "outputs": [
    {
     "name": "stdout",
     "output_type": "stream",
     "text": [
      "rows 512 columns 512\n",
      "bits allocated 16\n",
      "512x512\n"
     ]
    }
   ],
   "source": [
    "if (rs.PhotometricInterpretation != 'MONOCHROME2'): print 'WARN PI= ' + rs.PhotometricInterpretation\n",
    "if (rs.PixelRepresentation != 1)                  : print 'WARN PR= ' + rs.PicelRepresentation     \n",
    "if (rs.BitsStored != 16)                          : print 'WARN BS= ' + rs.BitsStored\n",
    "    \n",
    "print 'rows ' + str(rs.Rows) + ' columns ' + str(rs.Columns) \n",
    "print 'bits allocated ' + str(rs.BitsAllocated)\n",
    "print str(len(rs.pixel_array)) + 'x' +  str(len(rs.pixel_array[0]))"
   ]
  },
  {
   "cell_type": "markdown",
   "metadata": {},
   "source": [
    "Confirmed form this, our 2D sample has a 512x512 pixel array with each pixel value taking up 2 bytes.\n",
    "\n",
    "Lets dump this array into a csv file"
   ]
  },
  {
   "cell_type": "code",
   "execution_count": 7,
   "metadata": {
    "collapsed": true
   },
   "outputs": [],
   "source": [
    "df = pan.DataFrame(rs.pixel_array)\n",
    "df.to_csv('out.csv', header=False, index=False)"
   ]
  },
  {
   "cell_type": "code",
   "execution_count": null,
   "metadata": {
    "collapsed": true
   },
   "outputs": [],
   "source": []
  }
 ],
 "metadata": {
  "kernelspec": {
   "display_name": "Python 2",
   "language": "python",
   "name": "python2"
  },
  "language_info": {
   "codemirror_mode": {
    "name": "ipython",
    "version": 2
   },
   "file_extension": ".py",
   "mimetype": "text/x-python",
   "name": "python",
   "nbconvert_exporter": "python",
   "pygments_lexer": "ipython2",
   "version": "2.7.13"
  }
 },
 "nbformat": 4,
 "nbformat_minor": 2
}
